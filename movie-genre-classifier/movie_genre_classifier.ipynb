{
 "cells": [
  {
   "cell_type": "code",
   "execution_count": 11,
   "id": "915150ff-5def-48f8-b187-03428e348add",
   "metadata": {},
   "outputs": [
    {
     "name": "stdout",
     "output_type": "stream",
     "text": [
      "\n",
      " Selected Plot Summary:\n",
      " Shadows is a psychological thriller feature in which widowed Rachel finds herself haunted by the ghost of a little girl in her aunt 's cottage; the place she went to live after her parents died. Having inherited the cottage, Rachel moves there after suffering the tragic loss of her husband and unborn baby. Rachel doesn't remember much about her time in the cottage as a child, but the sinister goings on leads her to investigate. Gradually the pieces of her forgotten past are dug up and, finding herself in danger, she is forced to confront her abusive past in order to finally set herself free.\n",
      "\n",
      " Predicted Genre:  thriller \n"
     ]
    }
   ],
   "source": [
    "import pandas as pd\n",
    "from sklearn.feature_extraction.text import TfidfVectorizer\n",
    "from sklearn.linear_model import LogisticRegression\n",
    "import random\n",
    "\n",
    "# Load training data\n",
    "train_data = pd.read_csv(\n",
    "    r\"C:\\Users\\aaron\\OneDrive\\Desktop\\2nd year padhai\\DV study\\DIP code\\movei\\train_data.txt\",\n",
    "    sep=':::', names=['Title', 'Genre', 'Description'], engine='python'\n",
    ")\n",
    "\n",
    "# Convert descriptions to TF-IDF features\n",
    "tfidf_vectorizer = TfidfVectorizer(max_features=5000)\n",
    "X_train_tfidf = tfidf_vectorizer.fit_transform(train_data[\"Description\"])\n",
    "y_train = train_data[\"Genre\"]\n",
    "\n",
    "# Train logistic regression with more iterations\n",
    "model = LogisticRegression(max_iter=1000)\n",
    "model.fit(X_train_tfidf, y_train)\n",
    "\n",
    "# Load test data\n",
    "test_data = pd.read_csv(\n",
    "    r\"C:\\Users\\aaron\\OneDrive\\Desktop\\2nd year padhai\\DV study\\DIP code\\movei\\test_data.txt\",\n",
    "    sep=':::', names=['Title', 'Description'], engine='python'\n",
    ")\n",
    "\n",
    "# Pick a random test sample\n",
    "random_index = random.randint(0, len(test_data) - 1)\n",
    "selected_plot_summary = test_data.loc[random_index, \"Description\"]\n",
    "print(f\"\\n Selected Plot Summary:\\n{selected_plot_summary}\\n\")\n",
    "\n",
    "# Predict the genre\n",
    "X_selected_tfidf = tfidf_vectorizer.transform([selected_plot_summary])\n",
    "predicted_genre = model.predict(X_selected_tfidf)[0]\n",
    "print(f\" Predicted Genre: {predicted_genre}\")\n"
   ]
  },
  {
   "cell_type": "code",
   "execution_count": null,
   "id": "cc4fa957-7fef-4a4c-af28-c7ef443e9a5e",
   "metadata": {},
   "outputs": [],
   "source": []
  }
 ],
 "metadata": {
  "kernelspec": {
   "display_name": "Python 3 (ipykernel)",
   "language": "python",
   "name": "python3"
  },
  "language_info": {
   "codemirror_mode": {
    "name": "ipython",
    "version": 3
   },
   "file_extension": ".py",
   "mimetype": "text/x-python",
   "name": "python",
   "nbconvert_exporter": "python",
   "pygments_lexer": "ipython3",
   "version": "3.11.9"
  }
 },
 "nbformat": 4,
 "nbformat_minor": 5
}
