{
 "cells": [
  {
   "cell_type": "code",
   "execution_count": 2,
   "id": "915150ff-5def-48f8-b187-03428e348add",
   "metadata": {},
   "outputs": [
    {
     "name": "stdout",
     "output_type": "stream",
     "text": [
      "\n",
      " Selected Plot Summary:\n",
      " Celebrate 40 Years of excellence with one of the most storied hockey franchises of all time. From the inception in 1967 to the Stanley Cup Championships of the Broad Street Bullies to the Legion of Doom and the current roster of Super Stars, this DVD has it all. Relive the Flyers victory over the Soviet champion Central Red Army in 1976 and all the great moments that make hockey in Philadelphia an institution.\n",
      "\n",
      " Predicted Genre:  documentary \n"
     ]
    }
   ],
   "source": [
    "import pandas as pd\n",
    "from sklearn.feature_extraction.text import TfidfVectorizer\n",
    "from sklearn.linear_model import LogisticRegression\n",
    "import random\n",
    "\n",
    "train_data = pd.read_csv(\n",
    "    r\"C:\\Users\\aaron\\OneDrive\\Desktop\\2nd year padhai\\DV study\\DIP code\\movei\\train_data.txt\",\n",
    "    sep=':::', names=['Title', 'Genre', 'Description'], engine='python'\n",
    ")\n",
    "\n",
    "tfidf_vectorizer = TfidfVectorizer(max_features=5000)\n",
    "X_train_tfidf = tfidf_vectorizer.fit_transform(train_data[\"Description\"])\n",
    "y_train = train_data[\"Genre\"]\n",
    "\n",
    "model = LogisticRegression(max_iter=1000)\n",
    "model.fit(X_train_tfidf, y_train)\n",
    "\n",
    "test_data = pd.read_csv(\n",
    "    r\"C:\\Users\\aaron\\OneDrive\\Desktop\\2nd year padhai\\DV study\\DIP code\\movei\\test_data.txt\",\n",
    "    sep=':::', names=['Title', 'Description'], engine='python'\n",
    ")\n",
    "\n",
    "random_index = random.randint(0, len(test_data) - 1)\n",
    "selected_plot_summary = test_data.loc[random_index, \"Description\"]\n",
    "print(f\"\\n Selected Plot Summary:\\n{selected_plot_summary}\\n\")\n",
    "\n",
    "X_selected_tfidf = tfidf_vectorizer.transform([selected_plot_summary])\n",
    "predicted_genre = model.predict(X_selected_tfidf)[0]\n",
    "print(f\" Predicted Genre: {predicted_genre}\")\n"
   ]
  },
  {
   "cell_type": "code",
   "execution_count": null,
   "id": "cc4fa957-7fef-4a4c-af28-c7ef443e9a5e",
   "metadata": {},
   "outputs": [],
   "source": []
  }
 ],
 "metadata": {
  "kernelspec": {
   "display_name": "Python 3 (ipykernel)",
   "language": "python",
   "name": "python3"
  },
  "language_info": {
   "codemirror_mode": {
    "name": "ipython",
    "version": 3
   },
   "file_extension": ".py",
   "mimetype": "text/x-python",
   "name": "python",
   "nbconvert_exporter": "python",
   "pygments_lexer": "ipython3",
   "version": "3.11.9"
  }
 },
 "nbformat": 4,
 "nbformat_minor": 5
}
