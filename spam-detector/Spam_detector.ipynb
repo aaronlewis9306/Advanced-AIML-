{
 "cells": [
  {
   "cell_type": "code",
   "execution_count": 2,
   "id": "67b2227b-22b8-4cb8-b42a-d49e806585c8",
   "metadata": {},
   "outputs": [
    {
     "name": "stdout",
     "output_type": "stream",
     "text": [
      "📘 Training Accuracy: 0.9686\n",
      "🧪 Test Accuracy: 0.9534\n",
      "\n",
      "📊 Classification Report:\n",
      "              precision    recall  f1-score   support\n",
      "\n",
      "        Spam       0.99      0.68      0.80       158\n",
      "         Ham       0.95      1.00      0.97       957\n",
      "\n",
      "    accuracy                           0.95      1115\n",
      "   macro avg       0.97      0.84      0.89      1115\n",
      "weighted avg       0.96      0.95      0.95      1115\n",
      "\n"
     ]
    },
    {
     "name": "stderr",
     "output_type": "stream",
     "text": [
      "C:\\Users\\aaron\\AppData\\Local\\Packages\\PythonSoftwareFoundation.Python.3.11_qbz5n2kfra8p0\\LocalCache\\local-packages\\Python311\\site-packages\\IPython\\core\\pylabtools.py:170: UserWarning: Glyph 128201 (\\N{CHART WITH DOWNWARDS TREND}) missing from font(s) DejaVu Sans.\n",
      "  fig.canvas.print_figure(bytes_io, **kw)\n"
     ]
    },
    {
     "data": {
      "image/png": "[encoded data removed]",
      "text/plain": [
       "<Figure size 640x480 with 2 Axes>"
      ]
     },
     "metadata": {},
     "output_type": "display_data"
    },
    {
     "name": "stdout",
     "output_type": "stream",
     "text": [
      "\n",
      "📬 Custom Message Prediction:\n",
      "'Congratulations! You've won a $1000 Walmart gift card. Click here to claim now!'\n",
      "➡️ Prediction: Ham\n"
     ]
    }
   ],
   "source": [
    "import pandas as pd \n",
    "import numpy as np \n",
    "import seaborn as sns \n",
    "import matplotlib.pyplot as plt \n",
    "from sklearn.model_selection import train_test_split \n",
    "from sklearn.feature_extraction.text import TfidfVectorizer\n",
    "from sklearn.linear_model import LogisticRegression\n",
    "from sklearn.metrics import accuracy_score, classification_report, confusion_matrix, ConfusionMatrixDisplay\n",
    "\n",
    "# Load and clean data\n",
    "raw_mail_df = pd.read_csv(r\"C:\\Users\\aaron\\OneDrive\\Desktop\\2nd year padhai\\DV study\\DIP code\\spam\\mail_data.csv\")\n",
    "mail_df = raw_mail_df.where(pd.notnull(raw_mail_df), '')\n",
    "\n",
    "# Label encoding\n",
    "mail_df.loc[mail_df['Category'] == 'spam', 'Category'] = 0 \n",
    "mail_df.loc[mail_df['Category'] == 'ham', 'Category'] = 1\n",
    "\n",
    "# Features and Labels\n",
    "X = mail_df['Message'] \n",
    "Y = mail_df['Category'].astype('int')  # Convert once\n",
    "\n",
    "# Train-Test Split\n",
    "X_train, X_test, Y_train, Y_test = train_test_split(X, Y, test_size = 0.2, random_state = 2)\n",
    "\n",
    "# Feature Extraction\n",
    "feature_extraction = TfidfVectorizer(min_df=1, stop_words='english', lowercase=True)\n",
    "X_train_features = feature_extraction.fit_transform(X_train)\n",
    "X_test_features = feature_extraction.transform(X_test)\n",
    "\n",
    "# Train the Logistic Regression model\n",
    "model = LogisticRegression(max_iter=1000)\n",
    "model.fit(X_train_features, Y_train)\n",
    "\n",
    "# Evaluate on training data\n",
    "train_pred = model.predict(X_train_features)\n",
    "accuracy_train = accuracy_score(Y_train, train_pred)\n",
    "print(f\"📘 Training Accuracy: {accuracy_train:.4f}\")\n",
    "\n",
    "# Evaluate on test data\n",
    "test_pred = model.predict(X_test_features)\n",
    "accuracy_test = accuracy_score(Y_test, test_pred)\n",
    "print(f\"🧪 Test Accuracy: {accuracy_test:.4f}\")\n",
    "\n",
    "# Classification Report\n",
    "print(\"\\n📊 Classification Report:\")\n",
    "print(classification_report(Y_test, test_pred, target_names=['Spam', 'Ham']))\n",
    "\n",
    "# Confusion Matrix\n",
    "cm = confusion_matrix(Y_test, test_pred, labels=[0, 1])\n",
    "disp = ConfusionMatrixDisplay(confusion_matrix=cm, display_labels=['Spam', 'Ham'])\n",
    "disp.plot(cmap=plt.cm.Blues)\n",
    "plt.title(\"📉 Confusion Matrix\")\n",
    "plt.show()\n",
    "\n",
    "# Predict on a custom message\n",
    "custom_msg = \"Congratulations! You've won a $1000 Walmart gift card. Click here to claim now!\"\n",
    "custom_msg_transformed = feature_extraction.transform([custom_msg])\n",
    "prediction = model.predict(custom_msg_transformed)[0]\n",
    "print(f\"\\n📬 Custom Message Prediction:\\n'{custom_msg}'\\n Prediction: {'Spam' if prediction == 0 else 'Ham'}\")\n"
   ]
  },
  {
   "cell_type": "code",
   "execution_count": null,
   "id": "e77a6445-790d-46da-977c-57af042025fb",
   "metadata": {},
   "outputs": [],
   "source": []
  }
 ],
 "metadata": {
  "kernelspec": {
   "display_name": "Python 3 (ipykernel)",
   "language": "python",
   "name": "python3"
  },
  "language_info": {
   "codemirror_mode": {
    "name": "ipython",
    "version": 3
   },
   "file_extension": ".py",
   "mimetype": "text/x-python",
   "name": "python",
   "nbconvert_exporter": "python",
   "pygments_lexer": "ipython3",
   "version": "3.11.9"
  }
 },
 "nbformat": 4,
 "nbformat_minor": 5
}
